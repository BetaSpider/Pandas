{
 "cells": [
  {
   "cell_type": "markdown",
   "id": "9e4ae44b",
   "metadata": {},
   "source": [
    "# find the pandas version"
   ]
  },
  {
   "cell_type": "code",
   "execution_count": 2,
   "id": "6f89d91f",
   "metadata": {},
   "outputs": [
    {
     "name": "stdout",
     "output_type": "stream",
     "text": [
      "1.3.5\n"
     ]
    }
   ],
   "source": [
    "import pandas as pd\n",
    "print(pd.__version__)"
   ]
  },
  {
   "cell_type": "markdown",
   "id": "8acf36b9",
   "metadata": {},
   "source": [
    "# convert list to series"
   ]
  },
  {
   "cell_type": "code",
   "execution_count": 8,
   "id": "effc6c68",
   "metadata": {},
   "outputs": [
    {
     "name": "stdout",
     "output_type": "stream",
     "text": [
      "0    40\n",
      "1    20\n",
      "2    56\n",
      "3    21\n",
      "4    98\n",
      "dtype: int64\n"
     ]
    }
   ],
   "source": [
    "\n",
    "mark=[40,20,56,21,98]\n",
    "mark_series=pd.Series(mark)\n",
    "print(mark_series)"
   ]
  },
  {
   "cell_type": "markdown",
   "id": "2dddd7b3",
   "metadata": {},
   "source": [
    "# convert list to series with specified index"
   ]
  },
  {
   "cell_type": "code",
   "execution_count": 9,
   "id": "bc70e8bf",
   "metadata": {},
   "outputs": [
    {
     "name": "stdout",
     "output_type": "stream",
     "text": [
      "2    100\n",
      "3     25\n",
      "4      7\n",
      "1    200\n",
      "dtype: int64\n"
     ]
    }
   ],
   "source": [
    "score=[100,25,7,200]\n",
    "score_index=pd.Series(score,index=[2,3,4,1])\n",
    "print(score_index)"
   ]
  },
  {
   "cell_type": "markdown",
   "id": "a09d551d",
   "metadata": {},
   "source": [
    "# generate date for the given range(MM-DD-YYYY)"
   ]
  },
  {
   "cell_type": "code",
   "execution_count": 10,
   "id": "f8c63bee",
   "metadata": {},
   "outputs": [
    {
     "name": "stdout",
     "output_type": "stream",
     "text": [
      "DatetimeIndex(['2022-04-01', '2022-04-02', '2022-04-03', '2022-04-04',\n",
      "               '2022-04-05', '2022-04-06', '2022-04-07', '2022-04-08',\n",
      "               '2022-04-09', '2022-04-10', '2022-04-11', '2022-04-12',\n",
      "               '2022-04-13', '2022-04-14', '2022-04-15', '2022-04-16',\n",
      "               '2022-04-17', '2022-04-18', '2022-04-19', '2022-04-20'],\n",
      "              dtype='datetime64[ns]', freq='D')\n"
     ]
    }
   ],
   "source": [
    "dr=pd.date_range(start='04-01-2022',end='04-20-2022')\n",
    "print(dr)"
   ]
  },
  {
   "cell_type": "markdown",
   "id": "49b3d1dc",
   "metadata": {},
   "source": [
    "# dic to dataframe"
   ]
  },
  {
   "cell_type": "code",
   "execution_count": 13,
   "id": "90401e6c",
   "metadata": {},
   "outputs": [
    {
     "data": {
      "text/html": [
       "<div>\n",
       "<style scoped>\n",
       "    .dataframe tbody tr th:only-of-type {\n",
       "        vertical-align: middle;\n",
       "    }\n",
       "\n",
       "    .dataframe tbody tr th {\n",
       "        vertical-align: top;\n",
       "    }\n",
       "\n",
       "    .dataframe thead th {\n",
       "        text-align: right;\n",
       "    }\n",
       "</style>\n",
       "<table border=\"1\" class=\"dataframe\">\n",
       "  <thead>\n",
       "    <tr style=\"text-align: right;\">\n",
       "      <th></th>\n",
       "      <th>Name</th>\n",
       "      <th>Quantity</th>\n",
       "      <th>Price</th>\n",
       "    </tr>\n",
       "  </thead>\n",
       "  <tbody>\n",
       "    <tr>\n",
       "      <th>0</th>\n",
       "      <td>Apple</td>\n",
       "      <td>2</td>\n",
       "      <td>300</td>\n",
       "    </tr>\n",
       "    <tr>\n",
       "      <th>1</th>\n",
       "      <td>orange</td>\n",
       "      <td>8</td>\n",
       "      <td>700</td>\n",
       "    </tr>\n",
       "    <tr>\n",
       "      <th>2</th>\n",
       "      <td>grapes</td>\n",
       "      <td>9</td>\n",
       "      <td>900</td>\n",
       "    </tr>\n",
       "  </tbody>\n",
       "</table>\n",
       "</div>"
      ],
      "text/plain": [
       "     Name  Quantity  Price\n",
       "0   Apple         2    300\n",
       "1  orange         8    700\n",
       "2  grapes         9    900"
      ]
     },
     "execution_count": 13,
     "metadata": {},
     "output_type": "execute_result"
    }
   ],
   "source": [
    "fruits={'Name':['Apple','orange','grapes'],\n",
    "         'Quantity':[2,8,9],\n",
    "         'Price':[300,700,900]\n",
    "       \n",
    "       }\n",
    "df=pd.DataFrame(fruits)\n",
    "df"
   ]
  },
  {
   "cell_type": "markdown",
   "id": "bee49dc4",
   "metadata": {},
   "source": [
    "# List to Dataframe"
   ]
  },
  {
   "cell_type": "code",
   "execution_count": 15,
   "id": "ce8a0058",
   "metadata": {},
   "outputs": [
    {
     "data": {
      "text/html": [
       "<div>\n",
       "<style scoped>\n",
       "    .dataframe tbody tr th:only-of-type {\n",
       "        vertical-align: middle;\n",
       "    }\n",
       "\n",
       "    .dataframe tbody tr th {\n",
       "        vertical-align: top;\n",
       "    }\n",
       "\n",
       "    .dataframe thead th {\n",
       "        text-align: right;\n",
       "    }\n",
       "</style>\n",
       "<table border=\"1\" class=\"dataframe\">\n",
       "  <thead>\n",
       "    <tr style=\"text-align: right;\">\n",
       "      <th></th>\n",
       "      <th>Admission_no</th>\n",
       "      <th>Name</th>\n",
       "      <th>English_mark</th>\n",
       "    </tr>\n",
       "  </thead>\n",
       "  <tbody>\n",
       "    <tr>\n",
       "      <th>0</th>\n",
       "      <td>1001</td>\n",
       "      <td>David</td>\n",
       "      <td>98</td>\n",
       "    </tr>\n",
       "    <tr>\n",
       "      <th>1</th>\n",
       "      <td>1005</td>\n",
       "      <td>Jane</td>\n",
       "      <td>98</td>\n",
       "    </tr>\n",
       "    <tr>\n",
       "      <th>2</th>\n",
       "      <td>1008</td>\n",
       "      <td>Venila</td>\n",
       "      <td>75</td>\n",
       "    </tr>\n",
       "  </tbody>\n",
       "</table>\n",
       "</div>"
      ],
      "text/plain": [
       "   Admission_no    Name  English_mark\n",
       "0          1001   David            98\n",
       "1          1005    Jane            98\n",
       "2          1008  Venila            75"
      ]
     },
     "execution_count": 15,
     "metadata": {},
     "output_type": "execute_result"
    }
   ],
   "source": [
    "myList=[[1001,'David',98],[1005,'Jane',98],[1008,'Venila',75]]\n",
    "df=pd.DataFrame(myList,columns=['Admission_no','Name','English_mark'])\n",
    "df"
   ]
  }
 ],
 "metadata": {
  "kernelspec": {
   "display_name": "Python 3 (ipykernel)",
   "language": "python",
   "name": "python3"
  },
  "language_info": {
   "codemirror_mode": {
    "name": "ipython",
    "version": 3
   },
   "file_extension": ".py",
   "mimetype": "text/x-python",
   "name": "python",
   "nbconvert_exporter": "python",
   "pygments_lexer": "ipython3",
   "version": "3.7.6"
  }
 },
 "nbformat": 4,
 "nbformat_minor": 5
}
